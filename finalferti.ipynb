{
 "cells": [
  {
   "cell_type": "code",
   "execution_count": 3,
   "id": "hazardous-juice",
   "metadata": {},
   "outputs": [],
   "source": [
    "#importing libraries\n",
    "import pandas as pd\n",
    "import seaborn as sns\n",
    "import matplotlib.pyplot as plt\n",
    "import numpy as np\n",
    "import warnings\n",
    "warnings.filterwarnings('ignore')"
   ]
  },
  {
   "cell_type": "code",
   "execution_count": null,
   "id": "da2398dc",
   "metadata": {},
   "outputs": [],
   "source": []
  },
  {
   "cell_type": "code",
   "execution_count": 4,
   "id": "signed-float",
   "metadata": {},
   "outputs": [
    {
     "data": {
      "text/html": [
       "<div>\n",
       "<style scoped>\n",
       "    .dataframe tbody tr th:only-of-type {\n",
       "        vertical-align: middle;\n",
       "    }\n",
       "\n",
       "    .dataframe tbody tr th {\n",
       "        vertical-align: top;\n",
       "    }\n",
       "\n",
       "    .dataframe thead th {\n",
       "        text-align: right;\n",
       "    }\n",
       "</style>\n",
       "<table border=\"1\" class=\"dataframe\">\n",
       "  <thead>\n",
       "    <tr style=\"text-align: right;\">\n",
       "      <th></th>\n",
       "      <th>Temparature</th>\n",
       "      <th>Humidity</th>\n",
       "      <th>Moisture</th>\n",
       "      <th>Soil_Type</th>\n",
       "      <th>Crop_Type</th>\n",
       "      <th>Nitrogen</th>\n",
       "      <th>Potassium</th>\n",
       "      <th>Phosphorous</th>\n",
       "      <th>Fertilizer</th>\n",
       "    </tr>\n",
       "  </thead>\n",
       "  <tbody>\n",
       "    <tr>\n",
       "      <th>0</th>\n",
       "      <td>20</td>\n",
       "      <td>83</td>\n",
       "      <td>26</td>\n",
       "      <td>Clayey</td>\n",
       "      <td>rice</td>\n",
       "      <td>90</td>\n",
       "      <td>49</td>\n",
       "      <td>36</td>\n",
       "      <td>Urea</td>\n",
       "    </tr>\n",
       "    <tr>\n",
       "      <th>1</th>\n",
       "      <td>25</td>\n",
       "      <td>84</td>\n",
       "      <td>32</td>\n",
       "      <td>Loamy</td>\n",
       "      <td>rice</td>\n",
       "      <td>66</td>\n",
       "      <td>59</td>\n",
       "      <td>36</td>\n",
       "      <td>Urea</td>\n",
       "    </tr>\n",
       "    <tr>\n",
       "      <th>2</th>\n",
       "      <td>33</td>\n",
       "      <td>64</td>\n",
       "      <td>50</td>\n",
       "      <td>Loamy</td>\n",
       "      <td>Wheat</td>\n",
       "      <td>41</td>\n",
       "      <td>0</td>\n",
       "      <td>0</td>\n",
       "      <td>Urea</td>\n",
       "    </tr>\n",
       "    <tr>\n",
       "      <th>3</th>\n",
       "      <td>34</td>\n",
       "      <td>65</td>\n",
       "      <td>54</td>\n",
       "      <td>Loamy</td>\n",
       "      <td>Wheat</td>\n",
       "      <td>38</td>\n",
       "      <td>0</td>\n",
       "      <td>0</td>\n",
       "      <td>Urea</td>\n",
       "    </tr>\n",
       "    <tr>\n",
       "      <th>4</th>\n",
       "      <td>38</td>\n",
       "      <td>72</td>\n",
       "      <td>51</td>\n",
       "      <td>Loamy</td>\n",
       "      <td>Wheat</td>\n",
       "      <td>39</td>\n",
       "      <td>0</td>\n",
       "      <td>0</td>\n",
       "      <td>Urea</td>\n",
       "    </tr>\n",
       "  </tbody>\n",
       "</table>\n",
       "</div>"
      ],
      "text/plain": [
       "   Temparature  Humidity  Moisture Soil_Type Crop_Type  Nitrogen  Potassium  \\\n",
       "0           20        83        26    Clayey      rice        90         49   \n",
       "1           25        84        32     Loamy      rice        66         59   \n",
       "2           33        64        50     Loamy     Wheat        41          0   \n",
       "3           34        65        54     Loamy     Wheat        38          0   \n",
       "4           38        72        51     Loamy     Wheat        39          0   \n",
       "\n",
       "   Phosphorous Fertilizer  \n",
       "0           36       Urea  \n",
       "1           36       Urea  \n",
       "2            0       Urea  \n",
       "3            0       Urea  \n",
       "4            0       Urea  "
      ]
     },
     "execution_count": 4,
     "metadata": {},
     "output_type": "execute_result"
    }
   ],
   "source": [
    "#importing the dataset\n",
    "data = pd.read_csv('f2.csv')\n",
    "data.head()"
   ]
  },
  {
   "cell_type": "code",
   "execution_count": 5,
   "id": "bb6fe040",
   "metadata": {},
   "outputs": [
    {
     "data": {
      "text/html": [
       "<div>\n",
       "<style scoped>\n",
       "    .dataframe tbody tr th:only-of-type {\n",
       "        vertical-align: middle;\n",
       "    }\n",
       "\n",
       "    .dataframe tbody tr th {\n",
       "        vertical-align: top;\n",
       "    }\n",
       "\n",
       "    .dataframe thead th {\n",
       "        text-align: right;\n",
       "    }\n",
       "</style>\n",
       "<table border=\"1\" class=\"dataframe\">\n",
       "  <thead>\n",
       "    <tr style=\"text-align: right;\">\n",
       "      <th></th>\n",
       "      <th>Temparature</th>\n",
       "      <th>Humidity</th>\n",
       "      <th>Moisture</th>\n",
       "      <th>Soil_Type</th>\n",
       "      <th>Crop_Type</th>\n",
       "      <th>Nitrogen</th>\n",
       "      <th>Potassium</th>\n",
       "      <th>Phosphorous</th>\n",
       "      <th>Fertilizer</th>\n",
       "    </tr>\n",
       "  </thead>\n",
       "  <tbody>\n",
       "    <tr>\n",
       "      <th>0</th>\n",
       "      <td>20</td>\n",
       "      <td>83</td>\n",
       "      <td>26</td>\n",
       "      <td>Clayey</td>\n",
       "      <td>rice</td>\n",
       "      <td>90</td>\n",
       "      <td>49</td>\n",
       "      <td>36</td>\n",
       "      <td>Urea</td>\n",
       "    </tr>\n",
       "    <tr>\n",
       "      <th>1</th>\n",
       "      <td>25</td>\n",
       "      <td>84</td>\n",
       "      <td>32</td>\n",
       "      <td>Loamy</td>\n",
       "      <td>rice</td>\n",
       "      <td>66</td>\n",
       "      <td>59</td>\n",
       "      <td>36</td>\n",
       "      <td>Urea</td>\n",
       "    </tr>\n",
       "    <tr>\n",
       "      <th>2</th>\n",
       "      <td>33</td>\n",
       "      <td>64</td>\n",
       "      <td>50</td>\n",
       "      <td>Loamy</td>\n",
       "      <td>Wheat</td>\n",
       "      <td>41</td>\n",
       "      <td>0</td>\n",
       "      <td>0</td>\n",
       "      <td>Urea</td>\n",
       "    </tr>\n",
       "    <tr>\n",
       "      <th>3</th>\n",
       "      <td>34</td>\n",
       "      <td>65</td>\n",
       "      <td>54</td>\n",
       "      <td>Loamy</td>\n",
       "      <td>Wheat</td>\n",
       "      <td>38</td>\n",
       "      <td>0</td>\n",
       "      <td>0</td>\n",
       "      <td>Urea</td>\n",
       "    </tr>\n",
       "    <tr>\n",
       "      <th>4</th>\n",
       "      <td>38</td>\n",
       "      <td>72</td>\n",
       "      <td>51</td>\n",
       "      <td>Loamy</td>\n",
       "      <td>Wheat</td>\n",
       "      <td>39</td>\n",
       "      <td>0</td>\n",
       "      <td>0</td>\n",
       "      <td>Urea</td>\n",
       "    </tr>\n",
       "    <tr>\n",
       "      <th>...</th>\n",
       "      <td>...</td>\n",
       "      <td>...</td>\n",
       "      <td>...</td>\n",
       "      <td>...</td>\n",
       "      <td>...</td>\n",
       "      <td>...</td>\n",
       "      <td>...</td>\n",
       "      <td>...</td>\n",
       "      <td>...</td>\n",
       "    </tr>\n",
       "    <tr>\n",
       "      <th>547</th>\n",
       "      <td>12</td>\n",
       "      <td>95</td>\n",
       "      <td>42</td>\n",
       "      <td>Sandy</td>\n",
       "      <td>orange</td>\n",
       "      <td>11</td>\n",
       "      <td>14</td>\n",
       "      <td>5</td>\n",
       "      <td>10-10-10</td>\n",
       "    </tr>\n",
       "    <tr>\n",
       "      <th>548</th>\n",
       "      <td>12</td>\n",
       "      <td>95</td>\n",
       "      <td>42</td>\n",
       "      <td>Sandy</td>\n",
       "      <td>orange</td>\n",
       "      <td>11</td>\n",
       "      <td>14</td>\n",
       "      <td>5</td>\n",
       "      <td>10-10-10</td>\n",
       "    </tr>\n",
       "    <tr>\n",
       "      <th>549</th>\n",
       "      <td>27</td>\n",
       "      <td>80</td>\n",
       "      <td>31</td>\n",
       "      <td>Clayey</td>\n",
       "      <td>kidneybeans</td>\n",
       "      <td>19</td>\n",
       "      <td>21</td>\n",
       "      <td>6</td>\n",
       "      <td>10-10-10</td>\n",
       "    </tr>\n",
       "    <tr>\n",
       "      <th>550</th>\n",
       "      <td>27</td>\n",
       "      <td>80</td>\n",
       "      <td>31</td>\n",
       "      <td>Clayey</td>\n",
       "      <td>kidneybeans</td>\n",
       "      <td>19</td>\n",
       "      <td>21</td>\n",
       "      <td>6</td>\n",
       "      <td>10-10-10</td>\n",
       "    </tr>\n",
       "    <tr>\n",
       "      <th>551</th>\n",
       "      <td>27</td>\n",
       "      <td>80</td>\n",
       "      <td>31</td>\n",
       "      <td>Clayey</td>\n",
       "      <td>kidneybeans</td>\n",
       "      <td>19</td>\n",
       "      <td>21</td>\n",
       "      <td>6</td>\n",
       "      <td>10-10-10</td>\n",
       "    </tr>\n",
       "  </tbody>\n",
       "</table>\n",
       "<p>552 rows × 9 columns</p>\n",
       "</div>"
      ],
      "text/plain": [
       "     Temparature  Humidity  Moisture Soil_Type    Crop_Type  Nitrogen  \\\n",
       "0             20        83        26    Clayey         rice        90   \n",
       "1             25        84        32     Loamy         rice        66   \n",
       "2             33        64        50     Loamy        Wheat        41   \n",
       "3             34        65        54     Loamy        Wheat        38   \n",
       "4             38        72        51     Loamy        Wheat        39   \n",
       "..           ...       ...       ...       ...          ...       ...   \n",
       "547           12        95        42     Sandy       orange        11   \n",
       "548           12        95        42     Sandy       orange        11   \n",
       "549           27        80        31    Clayey  kidneybeans        19   \n",
       "550           27        80        31    Clayey  kidneybeans        19   \n",
       "551           27        80        31    Clayey  kidneybeans        19   \n",
       "\n",
       "     Potassium  Phosphorous Fertilizer  \n",
       "0           49           36       Urea  \n",
       "1           59           36       Urea  \n",
       "2            0            0       Urea  \n",
       "3            0            0       Urea  \n",
       "4            0            0       Urea  \n",
       "..         ...          ...        ...  \n",
       "547         14            5   10-10-10  \n",
       "548         14            5   10-10-10  \n",
       "549         21            6   10-10-10  \n",
       "550         21            6   10-10-10  \n",
       "551         21            6   10-10-10  \n",
       "\n",
       "[552 rows x 9 columns]"
      ]
     },
     "execution_count": 5,
     "metadata": {},
     "output_type": "execute_result"
    }
   ],
   "source": [
    "data"
   ]
  },
  {
   "cell_type": "code",
   "execution_count": 6,
   "id": "6366b457",
   "metadata": {},
   "outputs": [],
   "source": [
    "# Define the number of augmented samples to create for each original sample\n",
    "# increase dataset from 100 rows to 500\n",
    "\n",
    "\n",
    "# num_augmented_samples = 3\n",
    "\n",
    "# augmented_data = []\n",
    "\n",
    "# for index, row in dataset.iterrows():\n",
    "#     original_sample = row.to_dict()\n",
    "#     augmented_samples = []\n",
    "\n",
    "#     for _ in range(num_augmented_samples):\n",
    "#         augmented_sample = original_sample.copy()\n",
    "#         augmented_sample['Temparature'] += np.random.normal(0, 0.1)\n",
    "#         augmented_sample['Humidity'] += np.random.normal(0, 0.1)\n",
    "#         augmented_sample['Moisture'] += np.random.normal(0, 0.1)\n",
    "#         augmented_sample['Nitrogen'] += np.random.normal(0, 0.1)\n",
    "#         augmented_sample['Potassium'] += np.random.normal(0, 0.1)\n",
    "#         augmented_sample['Phosphorous'] += np.random.normal(0, 0.1)\n",
    "#         # Add more transformations for other columns as needed\n",
    "#         augmented_samples.append(augmented_sample)\n",
    "\n",
    "\n",
    "#     augmented_data.extend(augmented_samples)\n",
    "\n",
    "# # Convert the augmented data to a DataFrame\n",
    "# augmented_dataset = pd.DataFrame(augmented_data)\n",
    "\n",
    "# # Concatenate the original dataset \n",
    "# data = pd.concat([dataset, augmented_dataset], ignore_index=True)"
   ]
  },
  {
   "cell_type": "code",
   "execution_count": 7,
   "id": "durable-photographer",
   "metadata": {},
   "outputs": [
    {
     "name": "stdout",
     "output_type": "stream",
     "text": [
      "<class 'pandas.core.frame.DataFrame'>\n",
      "RangeIndex: 552 entries, 0 to 551\n",
      "Data columns (total 9 columns):\n",
      " #   Column       Non-Null Count  Dtype \n",
      "---  ------       --------------  ----- \n",
      " 0   Temparature  552 non-null    int64 \n",
      " 1   Humidity     552 non-null    int64 \n",
      " 2   Moisture     552 non-null    int64 \n",
      " 3   Soil_Type    552 non-null    object\n",
      " 4   Crop_Type    552 non-null    object\n",
      " 5   Nitrogen     552 non-null    int64 \n",
      " 6   Potassium    552 non-null    int64 \n",
      " 7   Phosphorous  552 non-null    int64 \n",
      " 8   Fertilizer   552 non-null    object\n",
      "dtypes: int64(6), object(3)\n",
      "memory usage: 38.9+ KB\n"
     ]
    }
   ],
   "source": [
    "data.info()"
   ]
  },
  {
   "cell_type": "code",
   "execution_count": 8,
   "id": "63f76ef6",
   "metadata": {},
   "outputs": [],
   "source": [
    "#changing the column names\n",
    "data.rename(columns={'Humidity ':'Humidity','Soil Type':'Soil_Type','Crop Type':'Crop_Type','Fertilizer Name':'Fertilizer'},inplace=True)"
   ]
  },
  {
   "cell_type": "code",
   "execution_count": 9,
   "id": "golden-european",
   "metadata": {},
   "outputs": [
    {
     "data": {
      "text/plain": [
       "Temparature    21\n",
       "Humidity       34\n",
       "Moisture       41\n",
       "Soil_Type       5\n",
       "Crop_Type      17\n",
       "Nitrogen       47\n",
       "Potassium      31\n",
       "Phosphorous    36\n",
       "Fertilizer     14\n",
       "dtype: int64"
      ]
     },
     "execution_count": 9,
     "metadata": {},
     "output_type": "execute_result"
    }
   ],
   "source": [
    "#checking unique values\n",
    "data.nunique()"
   ]
  },
  {
   "cell_type": "code",
   "execution_count": 10,
   "id": "suited-corner",
   "metadata": {},
   "outputs": [
    {
     "data": {
      "text/plain": [
       "Temparature    0\n",
       "Humidity       0\n",
       "Moisture       0\n",
       "Soil_Type      0\n",
       "Crop_Type      0\n",
       "Nitrogen       0\n",
       "Potassium      0\n",
       "Phosphorous    0\n",
       "Fertilizer     0\n",
       "dtype: int64"
      ]
     },
     "execution_count": 10,
     "metadata": {},
     "output_type": "execute_result"
    }
   ],
   "source": [
    "#checking for null values\n",
    "data.isna().sum()"
   ]
  },
  {
   "cell_type": "code",
   "execution_count": 11,
   "id": "ef93f6f9",
   "metadata": {},
   "outputs": [
    {
     "data": {
      "text/plain": [
       "array(['Urea', 'TSP', 'Superphosphate', 'Potassium sulfate.',\n",
       "       'Potassium chloride', 'DAP', '28-28', '20-20', '17-17-17',\n",
       "       '15-15-15', '14-35-14', '14-14-14', '10-26-26', '10-10-10'],\n",
       "      dtype=object)"
      ]
     },
     "execution_count": 11,
     "metadata": {},
     "output_type": "execute_result"
    }
   ],
   "source": [
    "data['Fertilizer'].unique()"
   ]
  },
  {
   "cell_type": "code",
   "execution_count": 12,
   "id": "20a18be1",
   "metadata": {},
   "outputs": [
    {
     "data": {
      "text/plain": [
       "array(['rice', 'Wheat', 'Tobacco', 'Sugarcane', 'Pulses', 'pomegranate',\n",
       "       'Paddy', 'Oil seeds', 'Millets', 'Maize', 'Ground Nuts', 'Cotton',\n",
       "       'coffee', 'watermelon', 'Barley', 'kidneybeans', 'orange'],\n",
       "      dtype=object)"
      ]
     },
     "execution_count": 12,
     "metadata": {},
     "output_type": "execute_result"
    }
   ],
   "source": [
    "data['Crop_Type'].unique()"
   ]
  },
  {
   "cell_type": "code",
   "execution_count": 13,
   "id": "published-walnut",
   "metadata": {},
   "outputs": [
    {
     "data": {
      "text/html": [
       "<div>\n",
       "<style scoped>\n",
       "    .dataframe tbody tr th:only-of-type {\n",
       "        vertical-align: middle;\n",
       "    }\n",
       "\n",
       "    .dataframe tbody tr th {\n",
       "        vertical-align: top;\n",
       "    }\n",
       "\n",
       "    .dataframe thead th {\n",
       "        text-align: right;\n",
       "    }\n",
       "</style>\n",
       "<table border=\"1\" class=\"dataframe\">\n",
       "  <thead>\n",
       "    <tr style=\"text-align: right;\">\n",
       "      <th></th>\n",
       "      <th>Temparature</th>\n",
       "      <th>Humidity</th>\n",
       "      <th>Moisture</th>\n",
       "      <th>Soil_Type</th>\n",
       "      <th>Crop_Type</th>\n",
       "      <th>Nitrogen</th>\n",
       "      <th>Potassium</th>\n",
       "      <th>Phosphorous</th>\n",
       "      <th>Fertilizer</th>\n",
       "    </tr>\n",
       "  </thead>\n",
       "  <tbody>\n",
       "    <tr>\n",
       "      <th>count</th>\n",
       "      <td>552.000000</td>\n",
       "      <td>552.000000</td>\n",
       "      <td>552.000000</td>\n",
       "      <td>552</td>\n",
       "      <td>552</td>\n",
       "      <td>552.000000</td>\n",
       "      <td>552.000000</td>\n",
       "      <td>552.000000</td>\n",
       "      <td>552</td>\n",
       "    </tr>\n",
       "    <tr>\n",
       "      <th>unique</th>\n",
       "      <td>NaN</td>\n",
       "      <td>NaN</td>\n",
       "      <td>NaN</td>\n",
       "      <td>5</td>\n",
       "      <td>17</td>\n",
       "      <td>NaN</td>\n",
       "      <td>NaN</td>\n",
       "      <td>NaN</td>\n",
       "      <td>14</td>\n",
       "    </tr>\n",
       "    <tr>\n",
       "      <th>top</th>\n",
       "      <td>NaN</td>\n",
       "      <td>NaN</td>\n",
       "      <td>NaN</td>\n",
       "      <td>Loamy</td>\n",
       "      <td>Cotton</td>\n",
       "      <td>NaN</td>\n",
       "      <td>NaN</td>\n",
       "      <td>NaN</td>\n",
       "      <td>Urea</td>\n",
       "    </tr>\n",
       "    <tr>\n",
       "      <th>freq</th>\n",
       "      <td>NaN</td>\n",
       "      <td>NaN</td>\n",
       "      <td>NaN</td>\n",
       "      <td>192</td>\n",
       "      <td>64</td>\n",
       "      <td>NaN</td>\n",
       "      <td>NaN</td>\n",
       "      <td>NaN</td>\n",
       "      <td>108</td>\n",
       "    </tr>\n",
       "    <tr>\n",
       "      <th>mean</th>\n",
       "      <td>28.630435</td>\n",
       "      <td>64.557971</td>\n",
       "      <td>42.840580</td>\n",
       "      <td>NaN</td>\n",
       "      <td>NaN</td>\n",
       "      <td>28.521739</td>\n",
       "      <td>10.144928</td>\n",
       "      <td>21.115942</td>\n",
       "      <td>NaN</td>\n",
       "    </tr>\n",
       "    <tr>\n",
       "      <th>std</th>\n",
       "      <td>5.088082</td>\n",
       "      <td>11.880236</td>\n",
       "      <td>11.507275</td>\n",
       "      <td>NaN</td>\n",
       "      <td>NaN</td>\n",
       "      <td>29.121989</td>\n",
       "      <td>13.456956</td>\n",
       "      <td>14.920514</td>\n",
       "      <td>NaN</td>\n",
       "    </tr>\n",
       "    <tr>\n",
       "      <th>min</th>\n",
       "      <td>0.000000</td>\n",
       "      <td>50.000000</td>\n",
       "      <td>25.000000</td>\n",
       "      <td>NaN</td>\n",
       "      <td>NaN</td>\n",
       "      <td>0.000000</td>\n",
       "      <td>0.000000</td>\n",
       "      <td>0.000000</td>\n",
       "      <td>NaN</td>\n",
       "    </tr>\n",
       "    <tr>\n",
       "      <th>25%</th>\n",
       "      <td>26.000000</td>\n",
       "      <td>54.000000</td>\n",
       "      <td>33.000000</td>\n",
       "      <td>NaN</td>\n",
       "      <td>NaN</td>\n",
       "      <td>10.000000</td>\n",
       "      <td>0.000000</td>\n",
       "      <td>8.000000</td>\n",
       "      <td>NaN</td>\n",
       "    </tr>\n",
       "    <tr>\n",
       "      <th>50%</th>\n",
       "      <td>29.000000</td>\n",
       "      <td>62.000000</td>\n",
       "      <td>41.000000</td>\n",
       "      <td>NaN</td>\n",
       "      <td>NaN</td>\n",
       "      <td>15.000000</td>\n",
       "      <td>0.000000</td>\n",
       "      <td>20.000000</td>\n",
       "      <td>NaN</td>\n",
       "    </tr>\n",
       "    <tr>\n",
       "      <th>75%</th>\n",
       "      <td>32.000000</td>\n",
       "      <td>68.000000</td>\n",
       "      <td>51.000000</td>\n",
       "      <td>NaN</td>\n",
       "      <td>NaN</td>\n",
       "      <td>37.000000</td>\n",
       "      <td>18.000000</td>\n",
       "      <td>36.000000</td>\n",
       "      <td>NaN</td>\n",
       "    </tr>\n",
       "    <tr>\n",
       "      <th>max</th>\n",
       "      <td>38.000000</td>\n",
       "      <td>95.000000</td>\n",
       "      <td>65.000000</td>\n",
       "      <td>NaN</td>\n",
       "      <td>NaN</td>\n",
       "      <td>126.000000</td>\n",
       "      <td>59.000000</td>\n",
       "      <td>54.000000</td>\n",
       "      <td>NaN</td>\n",
       "    </tr>\n",
       "  </tbody>\n",
       "</table>\n",
       "</div>"
      ],
      "text/plain": [
       "        Temparature    Humidity    Moisture Soil_Type Crop_Type    Nitrogen  \\\n",
       "count    552.000000  552.000000  552.000000       552       552  552.000000   \n",
       "unique          NaN         NaN         NaN         5        17         NaN   \n",
       "top             NaN         NaN         NaN     Loamy    Cotton         NaN   \n",
       "freq            NaN         NaN         NaN       192        64         NaN   \n",
       "mean      28.630435   64.557971   42.840580       NaN       NaN   28.521739   \n",
       "std        5.088082   11.880236   11.507275       NaN       NaN   29.121989   \n",
       "min        0.000000   50.000000   25.000000       NaN       NaN    0.000000   \n",
       "25%       26.000000   54.000000   33.000000       NaN       NaN   10.000000   \n",
       "50%       29.000000   62.000000   41.000000       NaN       NaN   15.000000   \n",
       "75%       32.000000   68.000000   51.000000       NaN       NaN   37.000000   \n",
       "max       38.000000   95.000000   65.000000       NaN       NaN  126.000000   \n",
       "\n",
       "         Potassium  Phosphorous Fertilizer  \n",
       "count   552.000000   552.000000        552  \n",
       "unique         NaN          NaN         14  \n",
       "top            NaN          NaN       Urea  \n",
       "freq           NaN          NaN        108  \n",
       "mean     10.144928    21.115942        NaN  \n",
       "std      13.456956    14.920514        NaN  \n",
       "min       0.000000     0.000000        NaN  \n",
       "25%       0.000000     8.000000        NaN  \n",
       "50%       0.000000    20.000000        NaN  \n",
       "75%      18.000000    36.000000        NaN  \n",
       "max      59.000000    54.000000        NaN  "
      ]
     },
     "execution_count": 13,
     "metadata": {},
     "output_type": "execute_result"
    }
   ],
   "source": [
    "#statistical parameters\n",
    "data.describe(include='all')"
   ]
  },
  {
   "cell_type": "code",
   "execution_count": 14,
   "id": "9b6f3365",
   "metadata": {},
   "outputs": [
    {
     "data": {
      "image/png": "[encoded data removed]",
      "text/plain": [
       "<Figure size 1300x500 with 1 Axes>"
      ]
     },
     "metadata": {},
     "output_type": "display_data"
    }
   ],
   "source": [
    "plt.figure(figsize=(13, 5))\n",
    "sns.set(style=\"whitegrid\")\n",
    "sns.countplot(data=data, x='Crop_Type')\n",
    "plt.title('Count Plot for Crop_Type')\n",
    "plt.xlabel('Crop_Type')\n",
    "plt.ylabel('Count')\n",
    "plt.show()"
   ]
  },
  {
   "cell_type": "code",
   "execution_count": 15,
   "id": "796fcc9f",
   "metadata": {},
   "outputs": [],
   "source": [
    "#The plot that shows the count (frequency) of each unique crop type in the dataset\n",
    "#The x-axis represents the different crop types.\n",
    "#The y-axis represents the count (the number of occurrences) of each crop type in the dataset"
   ]
  },
  {
   "cell_type": "code",
   "execution_count": 16,
   "id": "89ff4e98",
   "metadata": {},
   "outputs": [
    {
     "data": {
      "image/png": "[encoded data removed]",
      "text/plain": [
       "<Figure size 1000x400 with 1 Axes>"
      ]
     },
     "metadata": {},
     "output_type": "display_data"
    }
   ],
   "source": [
    "\n",
    "#first 4 crop types\n",
    "part1_data = data[data['Crop_Type'].isin(data['Crop_Type'].value_counts().index[:4])]\n",
    "\n",
    "# Create the first countplot\n",
    "plt.figure(figsize=(10, 4))\n",
    "sns.set(style=\"whitegrid\")\n",
    "sns.countplot(data=part1_data, x='Crop_Type', hue='Fertilizer', width=0.8, palette='Set2')\n",
    "plt.title('First 4 Crop Types')\n",
    "plt.xlabel('Crop_Type')\n",
    "plt.ylabel('Count')\n",
    "plt.legend(title='Fertilizer')\n",
    "plt.xticks(rotation=45, horizontalalignment='right')\n",
    "plt.tight_layout()\n",
    "plt.show()\n"
   ]
  },
  {
   "cell_type": "code",
   "execution_count": 17,
   "id": "b682e2b7",
   "metadata": {},
   "outputs": [
    {
     "data": {
      "image/png": "[encoded data removed]",
      "text/plain": [
       "<Figure size 800x400 with 1 Axes>"
      ]
     },
     "metadata": {},
     "output_type": "display_data"
    }
   ],
   "source": [
    "# Split the data into three parts: next 4 crop types\n",
    "part2_data = data[data['Crop_Type'].isin(data['Crop_Type'].value_counts().index[4:8])]\n",
    "\n",
    "# Create the second countplot\n",
    "plt.figure(figsize=(8, 4))\n",
    "sns.set(style=\"whitegrid\")\n",
    "sns.countplot(data=part2_data, x='Crop_Type', hue='Fertilizer', width=0.8, palette='Set2')\n",
    "plt.title('Next 4 Crop Types')\n",
    "plt.xlabel('Crop_Type')\n",
    "plt.ylabel('Count')\n",
    "plt.legend(title='Fertilizer')\n",
    "plt.xticks(rotation=45, horizontalalignment='right')\n",
    "plt.tight_layout()\n",
    "plt.show()\n"
   ]
  },
  {
   "cell_type": "code",
   "execution_count": 18,
   "id": "e669daee",
   "metadata": {},
   "outputs": [
    {
     "data": {
      "image/png": "[encoded data removed]",
      "text/plain": [
       "<Figure size 800x400 with 1 Axes>"
      ]
     },
     "metadata": {},
     "output_type": "display_data"
    }
   ],
   "source": [
    "# Split the data into three parts: remaining crop types\n",
    "part3_data = data[data['Crop_Type'].isin(data['Crop_Type'].value_counts().index[8:13])]\n",
    "\n",
    "# Create the third countplot\n",
    "plt.figure(figsize=(8, 4))\n",
    "sns.set(style=\"whitegrid\")\n",
    "sns.countplot(data=part3_data, x='Crop_Type', hue='Fertilizer', width=0.8, palette='Set2')\n",
    "plt.title('Remaining Crop Types')\n",
    "plt.xlabel('Crop_Type')\n",
    "plt.ylabel('Count')\n",
    "plt.legend(title='Fertilizer')\n",
    "plt.xticks(rotation=45, horizontalalignment='right')\n",
    "plt.tight_layout()\n",
    "plt.show()\n"
   ]
  },
  {
   "cell_type": "code",
   "execution_count": 19,
   "id": "280e8c08",
   "metadata": {},
   "outputs": [],
   "source": [
    "#  this plot is provides insights into how different crop types are distributed based on the type of fertilizer used.\n",
    "# The x-axis represents the different crop types.\n",
    "# The y-axis represents the count (the number of occurrences) of each crop type in the dataset."
   ]
  },
  {
   "cell_type": "code",
   "execution_count": 20,
   "id": "95215bab",
   "metadata": {},
   "outputs": [],
   "source": [
    "#Heatmap for Correlation Analysis\n",
    "# sns.heatmap(data.corr(),annot=True)"
   ]
  },
  {
   "cell_type": "code",
   "execution_count": 21,
   "id": "c5994e93",
   "metadata": {},
   "outputs": [],
   "source": [
    "#here is no such correlation between any of variables.. "
   ]
  },
  {
   "cell_type": "code",
   "execution_count": 22,
   "id": "rotary-november",
   "metadata": {},
   "outputs": [],
   "source": [
    "#encoding the labels for categorical variables\n",
    "from sklearn.preprocessing import LabelEncoder\n",
    "#it  transforming non-numeric data into a numeric format"
   ]
  },
  {
   "cell_type": "code",
   "execution_count": 23,
   "id": "chief-junior",
   "metadata": {},
   "outputs": [
    {
     "data": {
      "text/html": [
       "<div>\n",
       "<style scoped>\n",
       "    .dataframe tbody tr th:only-of-type {\n",
       "        vertical-align: middle;\n",
       "    }\n",
       "\n",
       "    .dataframe tbody tr th {\n",
       "        vertical-align: top;\n",
       "    }\n",
       "\n",
       "    .dataframe thead th {\n",
       "        text-align: right;\n",
       "    }\n",
       "</style>\n",
       "<table border=\"1\" class=\"dataframe\">\n",
       "  <thead>\n",
       "    <tr style=\"text-align: right;\">\n",
       "      <th></th>\n",
       "      <th>Encoded</th>\n",
       "    </tr>\n",
       "    <tr>\n",
       "      <th>Original</th>\n",
       "      <th></th>\n",
       "    </tr>\n",
       "  </thead>\n",
       "  <tbody>\n",
       "    <tr>\n",
       "      <th>Black</th>\n",
       "      <td>0</td>\n",
       "    </tr>\n",
       "    <tr>\n",
       "      <th>Clayey</th>\n",
       "      <td>1</td>\n",
       "    </tr>\n",
       "    <tr>\n",
       "      <th>Loamy</th>\n",
       "      <td>2</td>\n",
       "    </tr>\n",
       "    <tr>\n",
       "      <th>Red</th>\n",
       "      <td>3</td>\n",
       "    </tr>\n",
       "    <tr>\n",
       "      <th>Sandy</th>\n",
       "      <td>4</td>\n",
       "    </tr>\n",
       "  </tbody>\n",
       "</table>\n",
       "</div>"
      ],
      "text/plain": [
       "          Encoded\n",
       "Original         \n",
       "Black           0\n",
       "Clayey          1\n",
       "Loamy           2\n",
       "Red             3\n",
       "Sandy           4"
      ]
     },
     "execution_count": 23,
     "metadata": {},
     "output_type": "execute_result"
    }
   ],
   "source": [
    "#encoding Soil Type variable\n",
    "encode_soil = LabelEncoder()\n",
    "\n",
    "#fitting the label encoder\n",
    "data.Soil_Type = encode_soil.fit_transform(data.Soil_Type)\n",
    "\n",
    "#creating the DataFrame\n",
    "Soil_Type = pd.DataFrame(zip(encode_soil.classes_,encode_soil.transform(encode_soil.classes_)),columns=['Original','Encoded'])\n",
    "Soil_Type = Soil_Type.set_index('Original')\n",
    "Soil_Type"
   ]
  },
  {
   "cell_type": "code",
   "execution_count": 24,
   "id": "parental-offset",
   "metadata": {},
   "outputs": [
    {
     "data": {
      "text/html": [
       "<div>\n",
       "<style scoped>\n",
       "    .dataframe tbody tr th:only-of-type {\n",
       "        vertical-align: middle;\n",
       "    }\n",
       "\n",
       "    .dataframe tbody tr th {\n",
       "        vertical-align: top;\n",
       "    }\n",
       "\n",
       "    .dataframe thead th {\n",
       "        text-align: right;\n",
       "    }\n",
       "</style>\n",
       "<table border=\"1\" class=\"dataframe\">\n",
       "  <thead>\n",
       "    <tr style=\"text-align: right;\">\n",
       "      <th></th>\n",
       "      <th>Encoded</th>\n",
       "    </tr>\n",
       "    <tr>\n",
       "      <th>Original</th>\n",
       "      <th></th>\n",
       "    </tr>\n",
       "  </thead>\n",
       "  <tbody>\n",
       "    <tr>\n",
       "      <th>Barley</th>\n",
       "      <td>0</td>\n",
       "    </tr>\n",
       "    <tr>\n",
       "      <th>Cotton</th>\n",
       "      <td>1</td>\n",
       "    </tr>\n",
       "    <tr>\n",
       "      <th>Ground Nuts</th>\n",
       "      <td>2</td>\n",
       "    </tr>\n",
       "    <tr>\n",
       "      <th>Maize</th>\n",
       "      <td>3</td>\n",
       "    </tr>\n",
       "    <tr>\n",
       "      <th>Millets</th>\n",
       "      <td>4</td>\n",
       "    </tr>\n",
       "    <tr>\n",
       "      <th>Oil seeds</th>\n",
       "      <td>5</td>\n",
       "    </tr>\n",
       "    <tr>\n",
       "      <th>Paddy</th>\n",
       "      <td>6</td>\n",
       "    </tr>\n",
       "    <tr>\n",
       "      <th>Pulses</th>\n",
       "      <td>7</td>\n",
       "    </tr>\n",
       "    <tr>\n",
       "      <th>Sugarcane</th>\n",
       "      <td>8</td>\n",
       "    </tr>\n",
       "    <tr>\n",
       "      <th>Tobacco</th>\n",
       "      <td>9</td>\n",
       "    </tr>\n",
       "    <tr>\n",
       "      <th>Wheat</th>\n",
       "      <td>10</td>\n",
       "    </tr>\n",
       "    <tr>\n",
       "      <th>coffee</th>\n",
       "      <td>11</td>\n",
       "    </tr>\n",
       "    <tr>\n",
       "      <th>kidneybeans</th>\n",
       "      <td>12</td>\n",
       "    </tr>\n",
       "    <tr>\n",
       "      <th>orange</th>\n",
       "      <td>13</td>\n",
       "    </tr>\n",
       "    <tr>\n",
       "      <th>pomegranate</th>\n",
       "      <td>14</td>\n",
       "    </tr>\n",
       "    <tr>\n",
       "      <th>rice</th>\n",
       "      <td>15</td>\n",
       "    </tr>\n",
       "    <tr>\n",
       "      <th>watermelon</th>\n",
       "      <td>16</td>\n",
       "    </tr>\n",
       "  </tbody>\n",
       "</table>\n",
       "</div>"
      ],
      "text/plain": [
       "             Encoded\n",
       "Original            \n",
       "Barley             0\n",
       "Cotton             1\n",
       "Ground Nuts        2\n",
       "Maize              3\n",
       "Millets            4\n",
       "Oil seeds          5\n",
       "Paddy              6\n",
       "Pulses             7\n",
       "Sugarcane          8\n",
       "Tobacco            9\n",
       "Wheat             10\n",
       "coffee            11\n",
       "kidneybeans       12\n",
       "orange            13\n",
       "pomegranate       14\n",
       "rice              15\n",
       "watermelon        16"
      ]
     },
     "execution_count": 24,
     "metadata": {},
     "output_type": "execute_result"
    }
   ],
   "source": [
    "#encoding Crop Type variable\n",
    "encode_crop = LabelEncoder()\n",
    "\n",
    "#fitting the label encoder\n",
    "data.Crop_Type = encode_crop.fit_transform(data.Crop_Type)\n",
    "\n",
    "#creating the DataFrame\n",
    "Crop_Type = pd.DataFrame(zip(encode_crop.classes_,encode_crop.transform(encode_crop.classes_)),columns=['Original','Encoded'])\n",
    "Crop_Type = Crop_Type.set_index('Original')\n",
    "Crop_Type"
   ]
  },
  {
   "cell_type": "code",
   "execution_count": 25,
   "id": "organic-oakland",
   "metadata": {},
   "outputs": [
    {
     "data": {
      "text/html": [
       "<div>\n",
       "<style scoped>\n",
       "    .dataframe tbody tr th:only-of-type {\n",
       "        vertical-align: middle;\n",
       "    }\n",
       "\n",
       "    .dataframe tbody tr th {\n",
       "        vertical-align: top;\n",
       "    }\n",
       "\n",
       "    .dataframe thead th {\n",
       "        text-align: right;\n",
       "    }\n",
       "</style>\n",
       "<table border=\"1\" class=\"dataframe\">\n",
       "  <thead>\n",
       "    <tr style=\"text-align: right;\">\n",
       "      <th></th>\n",
       "      <th>Encoded</th>\n",
       "    </tr>\n",
       "    <tr>\n",
       "      <th>Original</th>\n",
       "      <th></th>\n",
       "    </tr>\n",
       "  </thead>\n",
       "  <tbody>\n",
       "    <tr>\n",
       "      <th>10-10-10</th>\n",
       "      <td>0</td>\n",
       "    </tr>\n",
       "    <tr>\n",
       "      <th>10-26-26</th>\n",
       "      <td>1</td>\n",
       "    </tr>\n",
       "    <tr>\n",
       "      <th>14-14-14</th>\n",
       "      <td>2</td>\n",
       "    </tr>\n",
       "    <tr>\n",
       "      <th>14-35-14</th>\n",
       "      <td>3</td>\n",
       "    </tr>\n",
       "    <tr>\n",
       "      <th>15-15-15</th>\n",
       "      <td>4</td>\n",
       "    </tr>\n",
       "    <tr>\n",
       "      <th>17-17-17</th>\n",
       "      <td>5</td>\n",
       "    </tr>\n",
       "    <tr>\n",
       "      <th>20-20</th>\n",
       "      <td>6</td>\n",
       "    </tr>\n",
       "    <tr>\n",
       "      <th>28-28</th>\n",
       "      <td>7</td>\n",
       "    </tr>\n",
       "    <tr>\n",
       "      <th>DAP</th>\n",
       "      <td>8</td>\n",
       "    </tr>\n",
       "    <tr>\n",
       "      <th>Potassium chloride</th>\n",
       "      <td>9</td>\n",
       "    </tr>\n",
       "    <tr>\n",
       "      <th>Potassium sulfate.</th>\n",
       "      <td>10</td>\n",
       "    </tr>\n",
       "    <tr>\n",
       "      <th>Superphosphate</th>\n",
       "      <td>11</td>\n",
       "    </tr>\n",
       "    <tr>\n",
       "      <th>TSP</th>\n",
       "      <td>12</td>\n",
       "    </tr>\n",
       "    <tr>\n",
       "      <th>Urea</th>\n",
       "      <td>13</td>\n",
       "    </tr>\n",
       "  </tbody>\n",
       "</table>\n",
       "</div>"
      ],
      "text/plain": [
       "                    Encoded\n",
       "Original                   \n",
       "10-10-10                  0\n",
       "10-26-26                  1\n",
       "14-14-14                  2\n",
       "14-35-14                  3\n",
       "15-15-15                  4\n",
       "17-17-17                  5\n",
       "20-20                     6\n",
       "28-28                     7\n",
       "DAP                       8\n",
       "Potassium chloride        9\n",
       "Potassium sulfate.       10\n",
       "Superphosphate           11\n",
       "TSP                      12\n",
       "Urea                     13"
      ]
     },
     "execution_count": 25,
     "metadata": {},
     "output_type": "execute_result"
    }
   ],
   "source": [
    "#encoding Fertilizer variable\n",
    "encode_ferti = LabelEncoder()\n",
    "\n",
    "#fitting the label encoder\n",
    "data.Fertilizer = encode_ferti.fit_transform(data.Fertilizer)\n",
    "\n",
    "#creating the DataFrame\n",
    "Fertilizer = pd.DataFrame(zip(encode_ferti.classes_,encode_ferti.transform(encode_ferti.classes_)),columns=['Original','Encoded'])\n",
    "Fertilizer = Fertilizer.set_index('Original')\n",
    "Fertilizer"
   ]
  },
  {
   "cell_type": "code",
   "execution_count": 26,
   "id": "forced-activation",
   "metadata": {},
   "outputs": [
    {
     "name": "stdout",
     "output_type": "stream",
     "text": [
      "Shape of Splitting :\n",
      "x_train = (441, 8), y_train = (441,), x_test = (111, 8), y_test = (111,)\n"
     ]
    }
   ],
   "source": [
    "#splitting the data into train and test\n",
    "from sklearn.model_selection import train_test_split\n",
    "\n",
    "x_train, x_test, y_train, y_test = train_test_split(data.drop('Fertilizer',axis=1),data.Fertilizer,test_size=0.2,random_state=1)\n",
    "print('Shape of Splitting :')\n",
    "print('x_train = {}, y_train = {}, x_test = {}, y_test = {}'.format(x_train.shape,y_train.shape,x_test.shape,y_test.shape))"
   ]
  },
  {
   "cell_type": "code",
   "execution_count": 27,
   "id": "7f09b733",
   "metadata": {},
   "outputs": [],
   "source": [
    "# here 20% of the data should be used for testing (evaluation), and the remaining 80% is used for training\n",
    "#x_train and x_test = contain the features (independent variables) used for training and testing the model\n",
    "#y_train and y_test = contains the labels(dependent variable) used for training and testing the model."
   ]
  },
  {
   "cell_type": "code",
   "execution_count": 28,
   "id": "handy-mortality",
   "metadata": {},
   "outputs": [
    {
     "name": "stdout",
     "output_type": "stream",
     "text": [
      "<class 'pandas.core.frame.DataFrame'>\n",
      "Index: 441 entries, 213 to 37\n",
      "Data columns (total 8 columns):\n",
      " #   Column       Non-Null Count  Dtype\n",
      "---  ------       --------------  -----\n",
      " 0   Temparature  441 non-null    int64\n",
      " 1   Humidity     441 non-null    int64\n",
      " 2   Moisture     441 non-null    int64\n",
      " 3   Soil_Type    441 non-null    int32\n",
      " 4   Crop_Type    441 non-null    int32\n",
      " 5   Nitrogen     441 non-null    int64\n",
      " 6   Potassium    441 non-null    int64\n",
      " 7   Phosphorous  441 non-null    int64\n",
      "dtypes: int32(2), int64(6)\n",
      "memory usage: 27.6 KB\n"
     ]
    }
   ],
   "source": [
    "x_train.info()"
   ]
  },
  {
   "cell_type": "code",
   "execution_count": 29,
   "id": "199e370e",
   "metadata": {},
   "outputs": [],
   "source": [
    "acc = [] # TEST\n",
    "model = []\n",
    "acc1=[] # TRIAN"
   ]
  },
  {
   "cell_type": "markdown",
   "id": "alleged-lemon",
   "metadata": {},
   "source": [
    "### Logistic regression model"
   ]
  },
  {
   "cell_type": "code",
   "execution_count": 30,
   "id": "finnish-killer",
   "metadata": {},
   "outputs": [
    {
     "name": "stdout",
     "output_type": "stream",
     "text": [
      "DecisionTrees's Accuracy is:  90.09009009009009 93.42403628117914\n"
     ]
    }
   ],
   "source": [
    "#importing libraries\n",
    "from sklearn.tree import DecisionTreeClassifier\n",
    "from sklearn.metrics import classification_report\n",
    "from sklearn import metrics\n",
    "from sklearn import tree\n",
    "import warnings\n",
    "warnings.filterwarnings('ignore')\n",
    "\n",
    "ds = DecisionTreeClassifier(criterion=\"entropy\",random_state=2,max_depth=5)\n",
    "ds.fit(x_train,y_train)\n",
    "\n",
    "predicted_values = ds.predict(x_test)\n",
    "x = metrics.accuracy_score(y_test, predicted_values)\n",
    "acc.append(x)\n",
    "model.append('Decision Tree')\n",
    "\n",
    "predicted_values = ds.predict(x_train)\n",
    "y = metrics.accuracy_score(y_train, predicted_values)\n",
    "acc1.append(y)\n",
    "\n",
    "print(\"DecisionTrees's Accuracy is: \", x*100, y*100)\n",
    "\n",
    "# print(classification_report(y_test,predicted_values))"
   ]
  },
  {
   "cell_type": "code",
   "execution_count": 31,
   "id": "rising-tender",
   "metadata": {},
   "outputs": [
    {
     "name": "stdout",
     "output_type": "stream",
     "text": [
      "Naive Bayes's Accuracy is:  0.9459459459459459 0.9138321995464853\n"
     ]
    }
   ],
   "source": [
    "from sklearn.naive_bayes import GaussianNB\n",
    "\n",
    "NaiveBayes = GaussianNB()\n",
    "\n",
    "NaiveBayes.fit(x_train,y_train)\n",
    "\n",
    "predicted_values = NaiveBayes.predict(x_test)\n",
    "x = metrics.accuracy_score(y_test, predicted_values)\n",
    "acc.append(x)\n",
    "\n",
    "predicted_values = NaiveBayes.predict(x_train)\n",
    "y = metrics.accuracy_score(y_train, predicted_values)\n",
    "acc1.append(y)\n",
    "\n",
    "model.append('Naive Bayes')\n",
    "print(\"Naive Bayes's Accuracy is: \", x,y)\n",
    "\n",
    "# print(classification_report(y_test,predicted_values))"
   ]
  },
  {
   "cell_type": "code",
   "execution_count": 32,
   "id": "independent-economics",
   "metadata": {},
   "outputs": [
    {
     "name": "stdout",
     "output_type": "stream",
     "text": [
      "SVM's Accuracy is:  0.990990990990991 0.9931972789115646\n"
     ]
    }
   ],
   "source": [
    "from sklearn.svm import SVC\n",
    "# data normalization with sklearn\n",
    "from sklearn.preprocessing import MinMaxScaler\n",
    "# fit scaler on training data\n",
    "norm = MinMaxScaler().fit(x_train)\n",
    "X_train_norm = norm.transform(x_train)\n",
    "# transform testing dataabs\n",
    "X_test_norm = norm.transform(x_test)\n",
    "SVM = SVC(kernel='poly', degree=3, C=1)\n",
    "SVM.fit(X_train_norm,y_train)\n",
    "\n",
    "predicted_values = SVM.predict(X_test_norm)\n",
    "x = metrics.accuracy_score(y_test, predicted_values)\n",
    "acc.append(x)\n",
    "\n",
    "predicted_values = SVM.predict(X_train_norm)\n",
    "y = metrics.accuracy_score(y_train, predicted_values)\n",
    "acc1.append(y)\n",
    "\n",
    "model.append('SVM')\n",
    "print(\"SVM's Accuracy is: \", x,y)\n",
    "\n",
    "# print(classification_report(y_test,predicted_values))"
   ]
  },
  {
   "cell_type": "code",
   "execution_count": 33,
   "id": "psychological-encounter",
   "metadata": {},
   "outputs": [
    {
     "name": "stdout",
     "output_type": "stream",
     "text": [
      "Logistic Regression's Accuracy is:  0.7837837837837838 0.909297052154195\n"
     ]
    }
   ],
   "source": [
    "from sklearn.linear_model import LogisticRegression\n",
    "\n",
    "LogReg = LogisticRegression(random_state=2)\n",
    "\n",
    "LogReg.fit(x_train,y_train)\n",
    "\n",
    "predicted_values = LogReg.predict(x_test)\n",
    "x = metrics.accuracy_score(y_test, predicted_values)\n",
    "acc.append(x)\n",
    "\n",
    "predicted_values = LogReg.predict(x_train)\n",
    "y = metrics.accuracy_score(y_train, predicted_values)\n",
    "acc1.append(y)\n",
    "\n",
    "model.append('Logistic Regression')\n",
    "print(\"Logistic Regression's Accuracy is: \", x,y)\n",
    "\n",
    "# print(classification_report(y_test,predicted_values))"
   ]
  },
  {
   "cell_type": "code",
   "execution_count": 34,
   "id": "virgin-pride",
   "metadata": {},
   "outputs": [
    {
     "name": "stdout",
     "output_type": "stream",
     "text": [
      "RF's Accuracy is:  1.0 1.0\n"
     ]
    }
   ],
   "source": [
    "from sklearn.ensemble import RandomForestClassifier\n",
    "\n",
    "RF = RandomForestClassifier(n_estimators=20, random_state=0)\n",
    "RF.fit(x_train,y_train)\n",
    "\n",
    "predicted_values = RF.predict(x_test)\n",
    "x = metrics.accuracy_score(y_test, predicted_values)\n",
    "acc.append(x)\n",
    "\n",
    "predicted_values = RF.predict(x_train)\n",
    "y = metrics.accuracy_score(y_train, predicted_values)\n",
    "acc1.append(y)\n",
    "\n",
    "model.append('RF')\n",
    "print(\"RF's Accuracy is: \", x,y)\n",
    "\n",
    "# print(classification_report(y_test,predicted_values))"
   ]
  },
  {
   "cell_type": "code",
   "execution_count": 35,
   "id": "documented-preference",
   "metadata": {},
   "outputs": [
    {
     "name": "stdout",
     "output_type": "stream",
     "text": [
      "Cross-validation score of RF is: [1. 1. 1. 1. 1.]\n",
      "Cross-validation score of LogReg is: [0.97297297 0.94594595 0.91818182 0.88181818 0.87272727]\n",
      "Cross-validation score of SVM is: [0.96396396 0.92792793 0.91818182 0.88181818 0.98181818]\n",
      "Cross-validation score of NaiveBayes is: [1. 1. 1. 1. 1.]\n",
      "Cross-validation score of ds is: [1. 1. 1. 1. 1.]\n"
     ]
    }
   ],
   "source": [
    "from sklearn.model_selection import cross_val_score\n",
    "\n",
    "score = cross_val_score(RF,data,data.Fertilizer,cv=5)\n",
    "print(\"Cross-validation score of RF is:\",score)\n",
    "score = cross_val_score(LogReg,data,data.Fertilizer,cv=5)\n",
    "print(\"Cross-validation score of LogReg is:\",score)\n",
    "score = cross_val_score(SVM,data,data.Fertilizer,cv=5)\n",
    "print(\"Cross-validation score of SVM is:\",score)\n",
    "score = cross_val_score(NaiveBayes,data,data.Fertilizer,cv=5)\n",
    "print(\"Cross-validation score of NaiveBayes is:\",score)\n",
    "score = cross_val_score(ds, data, data.Fertilizer,cv=5)\n",
    "print(\"Cross-validation score of ds is:\",score)"
   ]
  },
  {
   "cell_type": "code",
   "execution_count": 36,
   "id": "cae5b81f",
   "metadata": {},
   "outputs": [
    {
     "data": {
      "text/plain": [
       "<Axes: title={'center': 'Accuracy Comparison'}, xlabel='Accuracy', ylabel='Algorithm'>"
      ]
     },
     "execution_count": 36,
     "metadata": {},
     "output_type": "execute_result"
    },
    {
     "data": {
      "image/png": "[encoded data removed]",
      "text/plain": [
       "<Figure size 1000x500 with 1 Axes>"
      ]
     },
     "metadata": {},
     "output_type": "display_data"
    }
   ],
   "source": [
    "plt.figure(figsize=[10,5],dpi = 100)\n",
    "plt.title('Accuracy Comparison')\n",
    "plt.xlabel('Accuracy')\n",
    "plt.ylabel('Algorithm')\n",
    "sns.barplot(x = acc,y = model,palette='dark')"
   ]
  },
  {
   "cell_type": "code",
   "execution_count": 37,
   "id": "logical-palestinian",
   "metadata": {},
   "outputs": [],
   "source": [
    "#pickling the file\n",
    "import pickle\n",
    "pickle_out = open('classifier.pkl','wb')\n",
    "pickle.dump(RF,pickle_out)\n",
    "pickle_out.close()"
   ]
  },
  {
   "cell_type": "code",
   "execution_count": 38,
   "id": "distant-michael",
   "metadata": {},
   "outputs": [
    {
     "data": {
      "text/plain": [
       "array([6])"
      ]
     },
     "execution_count": 38,
     "metadata": {},
     "output_type": "execute_result"
    }
   ],
   "source": [
    "model = pickle.load(open('classifier.pkl','rb'))\n",
    "model.predict([[34,67,62,0,1,7,0,30]])"
   ]
  },
  {
   "cell_type": "code",
   "execution_count": 39,
   "id": "46d043a6",
   "metadata": {},
   "outputs": [
    {
     "data": {
      "text/plain": [
       "array([10])"
      ]
     },
     "execution_count": 39,
     "metadata": {},
     "output_type": "execute_result"
    }
   ],
   "source": [
    "model = pickle.load(open('classifier.pkl','rb'))\n",
    "model.predict([[25,78,43,4,1,22,26,38]])"
   ]
  },
  {
   "cell_type": "code",
   "execution_count": 40,
   "id": "appointed-spouse",
   "metadata": {},
   "outputs": [],
   "source": [
    "#pickling the file\n",
    "import pickle\n",
    "pickle_out = open('fertilizer.pkl','wb')\n",
    "pickle.dump(encode_ferti,pickle_out)\n",
    "pickle_out.close()"
   ]
  },
  {
   "cell_type": "code",
   "execution_count": 41,
   "id": "surface-center",
   "metadata": {},
   "outputs": [
    {
     "data": {
      "text/plain": [
       "'10-26-26'"
      ]
     },
     "execution_count": 41,
     "metadata": {},
     "output_type": "execute_result"
    }
   ],
   "source": [
    "ferti = pickle.load(open('fertilizer.pkl','rb'))\n",
    "ferti.classes_[1]"
   ]
  },
  {
   "cell_type": "code",
   "execution_count": null,
   "id": "affected-tobacco",
   "metadata": {},
   "outputs": [],
   "source": []
  },
  {
   "cell_type": "code",
   "execution_count": null,
   "id": "deluxe-jungle",
   "metadata": {},
   "outputs": [],
   "source": []
  }
 ],
 "metadata": {
  "kernelspec": {
   "display_name": "Python 3 (ipykernel)",
   "language": "python",
   "name": "python3"
  },
  "language_info": {
   "codemirror_mode": {
    "name": "ipython",
    "version": 3
   },
   "file_extension": ".py",
   "mimetype": "text/x-python",
   "name": "python",
   "nbconvert_exporter": "python",
   "pygments_lexer": "ipython3",
   "version": "3.11.7"
  }
 },
 "nbformat": 4,
 "nbformat_minor": 5
}
